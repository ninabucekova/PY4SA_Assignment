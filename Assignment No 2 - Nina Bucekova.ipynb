version https://git-lfs.github.com/spec/v1
oid sha256:82d82c1251446eb7a9f4b155514580d662679d3ad72248cd9ff61b8f69107934
size 29148
